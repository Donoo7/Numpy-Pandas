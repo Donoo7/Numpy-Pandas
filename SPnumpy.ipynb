{
 "cells": [
  {
   "cell_type": "code",
   "execution_count": 3,
   "id": "b58fef67",
   "metadata": {},
   "outputs": [
    {
     "data": {
      "text/plain": [
       "array([1, 2, 3, 4, 5, 6])"
      ]
     },
     "execution_count": 3,
     "metadata": {},
     "output_type": "execute_result"
    }
   ],
   "source": [
    "import numpy as np\n",
    "arr = np.array([1,2,3,4,5,6])\n",
    "arr"
   ]
  },
  {
   "cell_type": "code",
   "execution_count": 5,
   "id": "ce27acd3",
   "metadata": {},
   "outputs": [
    {
     "data": {
      "text/plain": [
       "numpy.ndarray"
      ]
     },
     "execution_count": 5,
     "metadata": {},
     "output_type": "execute_result"
    }
   ],
   "source": [
    "type(arr)"
   ]
  },
  {
   "cell_type": "code",
   "execution_count": 8,
   "id": "933cdd65",
   "metadata": {},
   "outputs": [
    {
     "data": {
      "text/plain": [
       "array([[1, 2, 3],\n",
       "       [4, 5, 6]])"
      ]
     },
     "execution_count": 8,
     "metadata": {},
     "output_type": "execute_result"
    }
   ],
   "source": [
    "arr2 = np.array([[1,2,3],[4,5,6]])\n",
    "arr2"
   ]
  },
  {
   "cell_type": "code",
   "execution_count": 10,
   "id": "40e40fb2",
   "metadata": {},
   "outputs": [
    {
     "data": {
      "text/plain": [
       "array([[[4, 5, 6],\n",
       "        [8, 8, 8],\n",
       "        [9, 8, 6]]])"
      ]
     },
     "execution_count": 10,
     "metadata": {},
     "output_type": "execute_result"
    }
   ],
   "source": [
    "arr3 = np.array([[[4,5,6],[8,8,8],[9,8,6]]])\n",
    "arr3"
   ]
  },
  {
   "cell_type": "code",
   "execution_count": 13,
   "id": "505e076f",
   "metadata": {},
   "outputs": [
    {
     "data": {
      "text/plain": [
       "2"
      ]
     },
     "execution_count": 13,
     "metadata": {},
     "output_type": "execute_result"
    }
   ],
   "source": [
    "arr2.ndim"
   ]
  },
  {
   "cell_type": "code",
   "execution_count": 18,
   "id": "8015f131",
   "metadata": {},
   "outputs": [
    {
     "data": {
      "text/plain": [
       "4"
      ]
     },
     "execution_count": 18,
     "metadata": {},
     "output_type": "execute_result"
    }
   ],
   "source": [
    "arr[3]"
   ]
  },
  {
   "cell_type": "code",
   "execution_count": 19,
   "id": "e3a59348",
   "metadata": {},
   "outputs": [
    {
     "name": "stdout",
     "output_type": "stream",
     "text": [
      "4\n"
     ]
    }
   ],
   "source": [
    "print(arr[3])"
   ]
  },
  {
   "cell_type": "code",
   "execution_count": 21,
   "id": "cb60844b",
   "metadata": {},
   "outputs": [
    {
     "data": {
      "text/plain": [
       "array([1, 2, 3])"
      ]
     },
     "execution_count": 21,
     "metadata": {},
     "output_type": "execute_result"
    }
   ],
   "source": [
    "arr[0:3]"
   ]
  },
  {
   "cell_type": "code",
   "execution_count": 25,
   "id": "aab4f0e3",
   "metadata": {},
   "outputs": [
    {
     "data": {
      "text/plain": [
       "1"
      ]
     },
     "execution_count": 25,
     "metadata": {},
     "output_type": "execute_result"
    }
   ],
   "source": [
    "arr2[0,0]"
   ]
  },
  {
   "cell_type": "code",
   "execution_count": 27,
   "id": "9b03a8b9",
   "metadata": {},
   "outputs": [
    {
     "data": {
      "text/plain": [
       "5"
      ]
     },
     "execution_count": 27,
     "metadata": {},
     "output_type": "execute_result"
    }
   ],
   "source": [
    "arr2[1,1]"
   ]
  },
  {
   "cell_type": "code",
   "execution_count": 29,
   "id": "c87f72e6",
   "metadata": {},
   "outputs": [
    {
     "data": {
      "text/plain": [
       "8"
      ]
     },
     "execution_count": 29,
     "metadata": {},
     "output_type": "execute_result"
    }
   ],
   "source": [
    "arr3[0,1,2]"
   ]
  },
  {
   "cell_type": "code",
   "execution_count": 31,
   "id": "bb8e9c63",
   "metadata": {},
   "outputs": [
    {
     "data": {
      "text/plain": [
       "dtype('int32')"
      ]
     },
     "execution_count": 31,
     "metadata": {},
     "output_type": "execute_result"
    }
   ],
   "source": [
    "arr3.dtype"
   ]
  },
  {
   "cell_type": "code",
   "execution_count": 35,
   "id": "ee35dec4",
   "metadata": {},
   "outputs": [
    {
     "data": {
      "text/plain": [
       "dtype('<U5')"
      ]
     },
     "execution_count": 35,
     "metadata": {},
     "output_type": "execute_result"
    }
   ],
   "source": [
    "str1=np.array(['essfs','nfis','r','t'])\n",
    "str1.dtype"
   ]
  },
  {
   "cell_type": "code",
   "execution_count": 44,
   "id": "92587eea",
   "metadata": {},
   "outputs": [
    {
     "data": {
      "text/plain": [
       "array([  23,   12,   34, 1000,   56,   50])"
      ]
     },
     "execution_count": 44,
     "metadata": {},
     "output_type": "execute_result"
    }
   ],
   "source": [
    "arr4 = np.array([23,12,34,45,56,50])\n",
    "arr44 = arr4.copy()\n",
    "arr44 \n",
    "arr44[3] = 1000\n",
    "arr44"
   ]
  },
  {
   "cell_type": "code",
   "execution_count": 48,
   "id": "a914b463",
   "metadata": {},
   "outputs": [
    {
     "data": {
      "text/plain": [
       "array([  23,   12,   34, 1000,   56,   50])"
      ]
     },
     "execution_count": 48,
     "metadata": {},
     "output_type": "execute_result"
    }
   ],
   "source": [
    "arr4[4] = 199\n",
    "arr4\n",
    "arr44"
   ]
  },
  {
   "cell_type": "code",
   "execution_count": 49,
   "id": "2fcde46f",
   "metadata": {},
   "outputs": [
    {
     "data": {
      "text/plain": [
       "array([23, 12, 34, 45, 56, 50])"
      ]
     },
     "execution_count": 49,
     "metadata": {},
     "output_type": "execute_result"
    }
   ],
   "source": [
    "arr5 = np.array([23,12,34,45,56,50])\n",
    "y=arr5.copy()\n",
    "y"
   ]
  },
  {
   "cell_type": "code",
   "execution_count": 50,
   "id": "3339c437",
   "metadata": {},
   "outputs": [
    {
     "data": {
      "text/plain": [
       "array([ 23, 100,  34,  45,  56,  50])"
      ]
     },
     "execution_count": 50,
     "metadata": {},
     "output_type": "execute_result"
    }
   ],
   "source": [
    "arr5[1]=100\n",
    "arr5.shape"
   ]
  },
  {
   "cell_type": "code",
   "execution_count": 51,
   "id": "2417d778",
   "metadata": {},
   "outputs": [
    {
     "data": {
      "text/plain": [
       "array([23, 12, 34, 45, 56, 50])"
      ]
     },
     "execution_count": 51,
     "metadata": {},
     "output_type": "execute_result"
    }
   ],
   "source": [
    "y"
   ]
  },
  {
   "cell_type": "code",
   "execution_count": 60,
   "id": "56c4a0cf",
   "metadata": {},
   "outputs": [
    {
     "data": {
      "text/plain": [
       "array([ 33,  44, 100,  66,  77,  88])"
      ]
     },
     "execution_count": 60,
     "metadata": {},
     "output_type": "execute_result"
    }
   ],
   "source": [
    "arry = np.array([33,44,55,66,77,88])\n",
    "v = arry.view()\n",
    "v\n",
    "v[2]=100\n",
    "v\n",
    "arry"
   ]
  },
  {
   "cell_type": "code",
   "execution_count": 62,
   "id": "0069c97b",
   "metadata": {},
   "outputs": [
    {
     "data": {
      "text/plain": [
       "(6,)"
      ]
     },
     "execution_count": 62,
     "metadata": {},
     "output_type": "execute_result"
    }
   ],
   "source": [
    "arr5.shape"
   ]
  },
  {
   "cell_type": "code",
   "execution_count": 64,
   "id": "ad46cb79",
   "metadata": {},
   "outputs": [
    {
     "data": {
      "text/plain": [
       "(2, 3)"
      ]
     },
     "execution_count": 64,
     "metadata": {},
     "output_type": "execute_result"
    }
   ],
   "source": [
    "arr2.shape"
   ]
  },
  {
   "cell_type": "code",
   "execution_count": 66,
   "id": "15d65f2b",
   "metadata": {},
   "outputs": [
    {
     "data": {
      "text/plain": [
       "(1, 3, 3)"
      ]
     },
     "execution_count": 66,
     "metadata": {},
     "output_type": "execute_result"
    }
   ],
   "source": [
    "arr3.shape"
   ]
  },
  {
   "cell_type": "code",
   "execution_count": 68,
   "id": "aeb4e51f",
   "metadata": {},
   "outputs": [
    {
     "data": {
      "text/plain": [
       "array([[ 3, 54,  2,  3],\n",
       "       [ 5, 34,  2,  1]])"
      ]
     },
     "execution_count": 68,
     "metadata": {},
     "output_type": "execute_result"
    }
   ],
   "source": [
    "arr01 = np.array([3,54,2,3,5,34,2,1])\n",
    "arr01.reshape(2,4)"
   ]
  },
  {
   "cell_type": "code",
   "execution_count": 71,
   "id": "de6c3b94",
   "metadata": {},
   "outputs": [
    {
     "data": {
      "text/plain": [
       "array([[[ 3,  4,  5],\n",
       "        [ 6,  7,  8],\n",
       "        [ 9,  1,  2],\n",
       "        [10, 11, 12]]])"
      ]
     },
     "execution_count": 71,
     "metadata": {},
     "output_type": "execute_result"
    }
   ],
   "source": [
    "arr02 = np.array([3,4,5,6,7,8,9,1,2,10,11,12])\n",
    "arr02.reshape(1,4,3)"
   ]
  },
  {
   "cell_type": "code",
   "execution_count": 75,
   "id": "851b7c12",
   "metadata": {},
   "outputs": [
    {
     "data": {
      "text/plain": [
       "array([ 2, 34,  4, 22, 55,  6])"
      ]
     },
     "execution_count": 75,
     "metadata": {},
     "output_type": "execute_result"
    }
   ],
   "source": [
    "e=np.array([2,34,4])\n",
    "r=np.array([22,55,6])\n",
    "conca = np.concatenate((e,r))\n",
    "conca"
   ]
  },
  {
   "cell_type": "code",
   "execution_count": 80,
   "id": "8e1fc0c4",
   "metadata": {},
   "outputs": [
    {
     "data": {
      "text/plain": [
       "array([[22, 55,  6, 55,  7,  2],\n",
       "       [ 4,  5,  6,  2, 34,  4]])"
      ]
     },
     "execution_count": 80,
     "metadata": {},
     "output_type": "execute_result"
    }
   ],
   "source": [
    "u=np.array([[55,7,2],[2,34,4]])\n",
    "i=np.array([[22,55,6],[4,5,6]])\n",
    "conca = np.concatenate((i,u),axis=1)\n",
    "conca"
   ]
  },
  {
   "cell_type": "code",
   "execution_count": 82,
   "id": "3d22ee08",
   "metadata": {},
   "outputs": [
    {
     "data": {
      "text/plain": [
       "array([[22, 55,  6],\n",
       "       [ 4,  5,  6],\n",
       "       [55,  7,  2],\n",
       "       [ 2, 34,  4]])"
      ]
     },
     "execution_count": 82,
     "metadata": {},
     "output_type": "execute_result"
    }
   ],
   "source": [
    "conca = np.concatenate((i,u),axis=0)\n",
    "conca"
   ]
  },
  {
   "cell_type": "code",
   "execution_count": 86,
   "id": "3cad817e",
   "metadata": {},
   "outputs": [
    {
     "data": {
      "text/plain": [
       "array([[22, 55,  6],\n",
       "       [ 4,  5,  6],\n",
       "       [55,  7,  2],\n",
       "       [ 2, 34,  4]])"
      ]
     },
     "execution_count": 86,
     "metadata": {},
     "output_type": "execute_result"
    }
   ],
   "source": [
    "stack = np.vstack((i,u))\n",
    "stack"
   ]
  },
  {
   "cell_type": "code",
   "execution_count": 89,
   "id": "a63e262b",
   "metadata": {},
   "outputs": [
    {
     "data": {
      "text/plain": [
       "[array([111, 333]), array([444, 666]), array([777])]"
      ]
     },
     "execution_count": 89,
     "metadata": {},
     "output_type": "execute_result"
    }
   ],
   "source": [
    "spl = np.array([111,333,444,666,777])\n",
    "spl1 = np.array_split(spl,3)\n",
    "spl1"
   ]
  },
  {
   "cell_type": "code",
   "execution_count": 91,
   "id": "9944b000",
   "metadata": {},
   "outputs": [
    {
     "data": {
      "text/plain": [
       "array([  1,   5,  23,  65,  87, 300])"
      ]
     },
     "execution_count": 91,
     "metadata": {},
     "output_type": "execute_result"
    }
   ],
   "source": [
    "srt = np.array([300,87,5,65,1,23])\n",
    "np.sort(srt)"
   ]
  },
  {
   "cell_type": "code",
   "execution_count": 94,
   "id": "04c972fa",
   "metadata": {},
   "outputs": [
    {
     "data": {
      "text/plain": [
       "1939"
      ]
     },
     "execution_count": 94,
     "metadata": {},
     "output_type": "execute_result"
    }
   ],
   "source": [
    "#linear algebra\n",
    "arr1 = np.array([300,87,5,65,1,23])\n",
    "arr2 = np.array([3,7,5,5,34,2])\n",
    "result = np.dot(arr1,arr2)\n",
    "result"
   ]
  },
  {
   "cell_type": "code",
   "execution_count": 97,
   "id": "60db038b",
   "metadata": {},
   "outputs": [
    {
     "data": {
      "text/plain": [
       "array([[149,  36],\n",
       "       [224,  56]])"
      ]
     },
     "execution_count": 97,
     "metadata": {},
     "output_type": "execute_result"
    }
   ],
   "source": [
    "arr3 = np.array([[2,3,3],[3,4,5]])\n",
    "arr4 = np.array([[55,6,7],[9,1,5]])\n",
    "result = np.inner(arr3,arr4)\n",
    "result"
   ]
  },
  {
   "cell_type": "code",
   "execution_count": 100,
   "id": "b0bcd6ba",
   "metadata": {},
   "outputs": [
    {
     "data": {
      "text/plain": [
       "array([[ 77,  84, 161, 161,  35,  63],\n",
       "       [ 88,  96, 184, 184,  40,  72],\n",
       "       [ 66,  72, 138, 138,  30,  54],\n",
       "       [ 33,  36,  69,  69,  15,  27],\n",
       "       [ 44,  48,  92,  92,  20,  36],\n",
       "       [ 55,  60, 115, 115,  25,  45]])"
      ]
     },
     "execution_count": 100,
     "metadata": {},
     "output_type": "execute_result"
    }
   ],
   "source": [
    "arr5 = np.array([[7,8,6],[3,4,5]])\n",
    "arr6 = np.array([[11,12,23],[23,5,9]])\n",
    "result = np.outer(arr5,arr6)\n",
    "result"
   ]
  },
  {
   "cell_type": "code",
   "execution_count": 108,
   "id": "d5d878c4",
   "metadata": {},
   "outputs": [
    {
     "data": {
      "text/plain": [
       "2583.999999999998"
      ]
     },
     "execution_count": 108,
     "metadata": {},
     "output_type": "execute_result"
    }
   ],
   "source": [
    "arr6 = np.array([[72,8],[37,40]])\n",
    "\n",
    "res = np.linalg.det(arr6)\n",
    "res"
   ]
  },
  {
   "cell_type": "code",
   "execution_count": 112,
   "id": "10c8173e",
   "metadata": {},
   "outputs": [
    {
     "data": {
      "text/plain": [
       "array([-28.,  19.])"
      ]
     },
     "execution_count": 112,
     "metadata": {},
     "output_type": "execute_result"
    }
   ],
   "source": [
    "a=np.array([[1,2],[3,5]])\n",
    "b=np.array([10,11])\n",
    "solu = np.linalg.solve(a,b)\n",
    "solu"
   ]
  },
  {
   "cell_type": "code",
   "execution_count": 117,
   "id": "38350aa8",
   "metadata": {},
   "outputs": [
    {
     "data": {
      "text/plain": [
       "array([[ 0.05050505, -0.04040404],\n",
       "       [-0.04040404,  0.23232323]])"
      ]
     },
     "execution_count": 117,
     "metadata": {},
     "output_type": "execute_result"
    }
   ],
   "source": [
    "arr = np.array([[23,4],[4,5]])\n",
    "sol = np.linalg.inv(arr)\n",
    "sol"
   ]
  },
  {
   "cell_type": "code",
   "execution_count": 145,
   "id": "69ab8d73",
   "metadata": {},
   "outputs": [],
   "source": [
    "array1 = np.array([1,2,3,4,5,6,7,8])\n",
    "array4 = np.array([10,20,30,40,50,60,70,80])\n",
    "array2 = np.array([[1,2,3],[4,5,6]])\n",
    "array3 = np.array([[[4,5,6],[8,8,8],[9,8,6]]])\n",
    "strarray = np.array(['a','b','ab','abc'])"
   ]
  },
  {
   "cell_type": "code",
   "execution_count": 121,
   "id": "1afedfa6",
   "metadata": {},
   "outputs": [
    {
     "data": {
      "text/plain": [
       "numpy.ndarray"
      ]
     },
     "execution_count": 121,
     "metadata": {},
     "output_type": "execute_result"
    }
   ],
   "source": [
    "type(array1)"
   ]
  },
  {
   "cell_type": "code",
   "execution_count": 125,
   "id": "5549e725",
   "metadata": {},
   "outputs": [
    {
     "data": {
      "text/plain": [
       "3"
      ]
     },
     "execution_count": 125,
     "metadata": {},
     "output_type": "execute_result"
    }
   ],
   "source": [
    "array3.ndim"
   ]
  },
  {
   "cell_type": "code",
   "execution_count": 127,
   "id": "7765172a",
   "metadata": {},
   "outputs": [
    {
     "data": {
      "text/plain": [
       "array([4, 5, 6])"
      ]
     },
     "execution_count": 127,
     "metadata": {},
     "output_type": "execute_result"
    }
   ],
   "source": [
    "array1[3:6]"
   ]
  },
  {
   "cell_type": "code",
   "execution_count": 129,
   "id": "1f41e545",
   "metadata": {},
   "outputs": [
    {
     "data": {
      "text/plain": [
       "6"
      ]
     },
     "execution_count": 129,
     "metadata": {},
     "output_type": "execute_result"
    }
   ],
   "source": [
    "array2[1,2]"
   ]
  },
  {
   "cell_type": "code",
   "execution_count": 132,
   "id": "48f41794",
   "metadata": {},
   "outputs": [
    {
     "data": {
      "text/plain": [
       "dtype('<U3')"
      ]
     },
     "execution_count": 132,
     "metadata": {},
     "output_type": "execute_result"
    }
   ],
   "source": [
    "strarray.dtype"
   ]
  },
  {
   "cell_type": "code",
   "execution_count": 134,
   "id": "d43ed034",
   "metadata": {},
   "outputs": [
    {
     "data": {
      "text/plain": [
       "array([1, 2, 3, 4, 5, 6, 7])"
      ]
     },
     "execution_count": 134,
     "metadata": {},
     "output_type": "execute_result"
    }
   ],
   "source": [
    "array1copy = array1.copy()\n",
    "array1copy"
   ]
  },
  {
   "cell_type": "code",
   "execution_count": 137,
   "id": "3b765e04",
   "metadata": {},
   "outputs": [
    {
     "data": {
      "text/plain": [
       "array([[1, 2, 3],\n",
       "       [4, 5, 6]])"
      ]
     },
     "execution_count": 137,
     "metadata": {},
     "output_type": "execute_result"
    }
   ],
   "source": [
    "array2view = array2.view()\n",
    "array2view"
   ]
  },
  {
   "cell_type": "code",
   "execution_count": 142,
   "id": "f15bde1c",
   "metadata": {},
   "outputs": [
    {
     "data": {
      "text/plain": [
       "(8,)"
      ]
     },
     "execution_count": 142,
     "metadata": {},
     "output_type": "execute_result"
    }
   ],
   "source": [
    "array1.shape"
   ]
  },
  {
   "cell_type": "code",
   "execution_count": 144,
   "id": "f7ad9ae2",
   "metadata": {},
   "outputs": [
    {
     "data": {
      "text/plain": [
       "array([[1, 2, 3, 4],\n",
       "       [5, 6, 7, 8]])"
      ]
     },
     "execution_count": 144,
     "metadata": {},
     "output_type": "execute_result"
    }
   ],
   "source": [
    "array1.reshape(2,4)"
   ]
  },
  {
   "cell_type": "code",
   "execution_count": 149,
   "id": "27e2f885",
   "metadata": {},
   "outputs": [
    {
     "data": {
      "text/plain": [
       "array([ 1,  2,  3,  4,  5,  6,  7,  8, 10, 20, 30, 40, 50, 60, 70, 80])"
      ]
     },
     "execution_count": 149,
     "metadata": {},
     "output_type": "execute_result"
    }
   ],
   "source": [
    "con = np.concatenate((array1,array4))\n",
    "con"
   ]
  },
  {
   "cell_type": "code",
   "execution_count": 150,
   "id": "91d03da2",
   "metadata": {},
   "outputs": [
    {
     "data": {
      "text/plain": [
       "[array([1, 2, 3]), array([4, 5, 6]), array([7, 8])]"
      ]
     },
     "execution_count": 150,
     "metadata": {},
     "output_type": "execute_result"
    }
   ],
   "source": [
    "splt = np.array_split(array1,3)\n",
    "splt"
   ]
  },
  {
   "cell_type": "code",
   "execution_count": 152,
   "id": "37a477b2",
   "metadata": {},
   "outputs": [
    {
     "data": {
      "text/plain": [
       "array(['a', 'ab', 'abc', 'b'], dtype='<U3')"
      ]
     },
     "execution_count": 152,
     "metadata": {},
     "output_type": "execute_result"
    }
   ],
   "source": [
    "np.sort(strarray)"
   ]
  },
  {
   "cell_type": "code",
   "execution_count": 154,
   "id": "75b3bf2f",
   "metadata": {},
   "outputs": [
    {
     "data": {
      "text/plain": [
       "2040"
      ]
     },
     "execution_count": 154,
     "metadata": {},
     "output_type": "execute_result"
    }
   ],
   "source": [
    "np.dot(array1,array4)"
   ]
  },
  {
   "cell_type": "code",
   "execution_count": 156,
   "id": "d9b804cb",
   "metadata": {},
   "outputs": [
    {
     "data": {
      "text/plain": [
       "array([[ 88,  26],\n",
       "       [292,  71]])"
      ]
     },
     "execution_count": 156,
     "metadata": {},
     "output_type": "execute_result"
    }
   ],
   "source": [
    "np.inner(array2,arr4)"
   ]
  },
  {
   "cell_type": "code",
   "execution_count": 158,
   "id": "25b51126",
   "metadata": {},
   "outputs": [
    {
     "data": {
      "text/plain": [
       "array([[ 55,   6,   7,   9,   1,   5],\n",
       "       [110,  12,  14,  18,   2,  10],\n",
       "       [165,  18,  21,  27,   3,  15],\n",
       "       [220,  24,  28,  36,   4,  20],\n",
       "       [275,  30,  35,  45,   5,  25],\n",
       "       [330,  36,  42,  54,   6,  30]])"
      ]
     },
     "execution_count": 158,
     "metadata": {},
     "output_type": "execute_result"
    }
   ],
   "source": [
    "np.outer(array2,arr4)"
   ]
  },
  {
   "cell_type": "code",
   "execution_count": 161,
   "id": "c0a2973e",
   "metadata": {},
   "outputs": [
    {
     "data": {
      "text/plain": [
       "2583.999999999998"
      ]
     },
     "execution_count": 161,
     "metadata": {},
     "output_type": "execute_result"
    }
   ],
   "source": [
    "np.linalg.det(arr6)"
   ]
  },
  {
   "cell_type": "code",
   "execution_count": 163,
   "id": "36c9c182",
   "metadata": {},
   "outputs": [
    {
     "data": {
      "text/plain": [
       "array([[ 0.01547988, -0.00309598],\n",
       "       [-0.01431889,  0.02786378]])"
      ]
     },
     "execution_count": 163,
     "metadata": {},
     "output_type": "execute_result"
    }
   ],
   "source": [
    "np.linalg.inv(arr6)"
   ]
  }
 ],
 "metadata": {
  "kernelspec": {
   "display_name": "Python 3 (ipykernel)",
   "language": "python",
   "name": "python3"
  },
  "language_info": {
   "codemirror_mode": {
    "name": "ipython",
    "version": 3
   },
   "file_extension": ".py",
   "mimetype": "text/x-python",
   "name": "python",
   "nbconvert_exporter": "python",
   "pygments_lexer": "ipython3",
   "version": "3.9.13"
  }
 },
 "nbformat": 4,
 "nbformat_minor": 5
}
